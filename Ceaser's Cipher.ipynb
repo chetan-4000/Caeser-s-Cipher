{
 "cells": [
  {
   "cell_type": "code",
   "execution_count": 1,
   "id": "233f0f5b",
   "metadata": {},
   "outputs": [
    {
     "name": "stdout",
     "output_type": "stream",
     "text": [
      "Type 'Encode'fo encoding and type 'decode' for decoding:\n",
      "Encode\n",
      "Write the word:\n",
      "Chetan\n",
      "Write the number of ciphering:\n",
      "9\n",
      "the decrypted code is tyvkrf\n"
     ]
    }
   ],
   "source": [
    "#Ceasers Cipher\n",
    "alphabet = ['a','b','c','d','e','f','g','h','i','j','k','k','l','m','n','o','p','q','r','s','t','u','v','w','x','y','z']\n",
    "a = input(\"Type 'Encode'fo encoding and type 'decode' for decoding:\\n\").lower()\n",
    "b = input(\"Write the word:\\n\").lower()\n",
    "c = int(input(\"Write the number of ciphering:\\n\"))\n",
    "\n",
    "def encrypt(B,C):\n",
    "    ciphertext = \"\"\n",
    "    for letter in B:\n",
    "        position = alphabet.index(letter)\n",
    "        new_position = position + C\n",
    "        new_letter = alphabet[new_position]\n",
    "        ciphertext += new_letter\n",
    "    print(f\"the encrypted code is {ciphertext}\")\n",
    "    \n",
    "def decrypt(B,C):\n",
    "    ciphertext = \"\"\n",
    "    for letter in B:\n",
    "        position = alphabet.index(letter)\n",
    "        new_position = position - C\n",
    "        new_letter = alphabet[new_position]\n",
    "        ciphertext += new_letter\n",
    "    print(f\"the decrypted code is {ciphertext}\")\n",
    "    \n",
    "if a == \"yes\":\n",
    "    encrypt(b,c)\n",
    "else:\n",
    "    decrypt(b,c)"
   ]
  }
 ],
 "metadata": {
  "kernelspec": {
   "display_name": "Python 3",
   "language": "python",
   "name": "python3"
  },
  "language_info": {
   "codemirror_mode": {
    "name": "ipython",
    "version": 3
   },
   "file_extension": ".py",
   "mimetype": "text/x-python",
   "name": "python",
   "nbconvert_exporter": "python",
   "pygments_lexer": "ipython3",
   "version": "3.8.8"
  }
 },
 "nbformat": 4,
 "nbformat_minor": 5
}
